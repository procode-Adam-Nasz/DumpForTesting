{
 "cells": [
  {
   "cell_type": "code",
   "execution_count": null,
   "id": "initial_id",
   "metadata": {
    "collapsed": true
   },
   "outputs": [],
   "source": [
    ""
   ]
  },
  {
   "metadata": {},
   "cell_type": "code",
   "outputs": [],
   "execution_count": null,
   "source": [
    "import cx_Oracle\n",
    "\n",
    "# Replace with your Oracle connection details\n",
    "dsn_tns = cx_Oracle.makedsn(\"<host>\", <port>, service_name=\"<service_name>\")\n",
    "conn = cx_Oracle.connect(user=\"<user>\", password=\"<password>\", dsn=dsn_tns)\n",
    "cursor = conn.cursor()\n",
    "\n",
    "# Replace with the actual path to your dump file\n",
    "dump_file = \"testable.dmp\"\n",
    "\n",
    "# Use Oracle's imp utility to load the dump file\n",
    "cursor.callproc(\"DBMS_DATAPUMP.IMPORT_DATA\", [dump_file])\n",
    "\n",
    "conn.close()\n",
    "\n",
    "print(f\"Data from {dump_file} loaded successfully.\")"
   ],
   "id": "cd3ab129db13ebc2"
  },
  {
   "metadata": {},
   "cell_type": "code",
   "outputs": [],
   "execution_count": null,
   "source": "",
   "id": "88665f0a47f60069"
  }
 ],
 "metadata": {
  "kernelspec": {
   "display_name": "Python 3",
   "language": "python",
   "name": "python3"
  },
  "language_info": {
   "codemirror_mode": {
    "name": "ipython",
    "version": 2
   },
   "file_extension": ".py",
   "mimetype": "text/x-python",
   "name": "python",
   "nbconvert_exporter": "python",
   "pygments_lexer": "ipython2",
   "version": "2.7.6"
  }
 },
 "nbformat": 4,
 "nbformat_minor": 5
}
